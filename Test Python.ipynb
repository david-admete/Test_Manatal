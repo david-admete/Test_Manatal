{
 "cells": [
  {
   "cell_type": "markdown",
   "metadata": {},
   "source": [
    "# <center> Test Python <center>"
   ]
  },
  {
   "cell_type": "markdown",
   "metadata": {},
   "source": [
    "## <center> David Admète <center>"
   ]
  },
  {
   "cell_type": "markdown",
   "metadata": {},
   "source": [
    "## **Exercise 1** (<10 min)"
   ]
  },
  {
   "cell_type": "code",
   "execution_count": 1,
   "metadata": {},
   "outputs": [],
   "source": [
    "import numpy as np"
   ]
  },
  {
   "cell_type": "code",
   "execution_count": 2,
   "metadata": {},
   "outputs": [],
   "source": [
    "class Circle:\n",
    "    def __init__(self,r):\n",
    "        if r>=0 :\n",
    "            self.radius=r\n",
    "        else :\n",
    "            pass\n",
    "        \n",
    "    def perimeter(self):\n",
    "        return 2*np.pi*self.radius\n",
    "    \n",
    "    def area(self):\n",
    "        return np.pi*self.radius*self.radius"
   ]
  },
  {
   "cell_type": "code",
   "execution_count": 33,
   "metadata": {},
   "outputs": [
    {
     "name": "stdout",
     "output_type": "stream",
     "text": [
      "Input the radius : 1\n",
      "Radius : 1.0\n",
      "Perimeter : 6.283185307179586\n",
      "Area : 3.141592653589793\n"
     ]
    }
   ],
   "source": [
    "try :\n",
    "    r= float(input(\"Input the radius : \"))\n",
    "    C = Circle(r)\n",
    "    print(\"Radius : \"+str(r))\n",
    "    print(\"Perimeter : \"+str(C.perimeter()))\n",
    "    print(\"Area : \"+str(C.area()))\n",
    "except :\n",
    "    print(\"Type Error : Can't convert \"+ str(r)+\" to a float greater than 0\")"
   ]
  },
  {
   "cell_type": "markdown",
   "metadata": {},
   "source": [
    "## **Exercise 2** (<20 min)"
   ]
  },
  {
   "cell_type": "code",
   "execution_count": 34,
   "metadata": {},
   "outputs": [],
   "source": [
    "import random as rd"
   ]
  },
  {
   "cell_type": "code",
   "execution_count": 35,
   "metadata": {},
   "outputs": [],
   "source": [
    "def randomness(n,k):\n",
    "    L=rd.sample(range(1,n+1),k) #return a list of k elements among n\n",
    "    L.sort() #return the sorted list\n",
    "    return L"
   ]
  },
  {
   "cell_type": "code",
   "execution_count": 36,
   "metadata": {},
   "outputs": [
    {
     "name": "stdout",
     "output_type": "stream",
     "text": [
      "[9, 10, 11, 25, 29, 30, 33, 45, 47, 49]\n"
     ]
    }
   ],
   "source": [
    "print(randomness(50,10))"
   ]
  },
  {
   "cell_type": "markdown",
   "metadata": {},
   "source": [
    "**Test 1 : Check that frequencies of appearance are similar**"
   ]
  },
  {
   "cell_type": "code",
   "execution_count": 37,
   "metadata": {},
   "outputs": [
    {
     "name": "stdout",
     "output_type": "stream",
     "text": [
      "Lowest frequency : 0.003792\n",
      "Highest frequency : 0.004158\n",
      "Range : 0.000366\n"
     ]
    }
   ],
   "source": [
    "def frequencies(m):\n",
    "    n=50\n",
    "    k=10\n",
    "    L=[0 for _ in range(1,n+1)]\n",
    "    for i in range(m):\n",
    "        T=randomness(n,k)\n",
    "        for x in T:\n",
    "            L[x-1]+=1\n",
    "    for k in range(0,len(L)):\n",
    "        L[k]=L[k]/(m*n)\n",
    "    return L\n",
    "\n",
    "F=frequencies(10000)\n",
    "print(\"Lowest frequency : \"+str(min(F)))\n",
    "print(\"Highest frequency : \"+str(max(F)))\n",
    "print(\"Range : \"+str(round(max(F)-min(F),7)))\n",
    "    \n",
    "#frequencies of appearance differ by less than 10^-3, that's acceptable"
   ]
  },
  {
   "cell_type": "markdown",
   "metadata": {},
   "source": [
    "**Test 2 : The list is strictly increasing and its elements are included in $[1,50]$.**"
   ]
  },
  {
   "cell_type": "code",
   "execution_count": 38,
   "metadata": {},
   "outputs": [
    {
     "data": {
      "text/plain": [
       "True"
      ]
     },
     "execution_count": 38,
     "metadata": {},
     "output_type": "execute_result"
    }
   ],
   "source": [
    "def distinct(m):\n",
    "    n=50\n",
    "    k=10\n",
    "    for i in range(m):\n",
    "        T=randomness(n,k)\n",
    "        if T[0]<1 or T[len(T)-1]>50:\n",
    "            return false\n",
    "        for j in range(0,len(T)-1):\n",
    "            if(T[j]>=T[j+1]):\n",
    "                return False\n",
    "    return True\n",
    "\n",
    "distinct(10000)"
   ]
  },
  {
   "cell_type": "markdown",
   "metadata": {},
   "source": [
    "## **Exercise 3** (<10 min)"
   ]
  },
  {
   "cell_type": "markdown",
   "metadata": {},
   "source": [
    "Let's assume that the integers in input are lesser or equal than 3888."
   ]
  },
  {
   "cell_type": "code",
   "execution_count": 39,
   "metadata": {},
   "outputs": [],
   "source": [
    "digits = [\"M\", \"CM\", \"D\", \"CD\", \"C\", \"XC\", \"L\", \"XL\", \"X\", \"IX\", \"V\", \"IV\", \"I\"]\n",
    "values = [1000,900,500,400,100,90,50,40,10,9,5,4,1]\n",
    "\n",
    "def roman(n):\n",
    "    try :\n",
    "        if(n>3888 or n<=0):\n",
    "            return \"Not a roman number\"\n",
    "        S=\"\"\n",
    "        for i in range(0,len(values)):\n",
    "            S+=(n//values[i])*digits[i]\n",
    "            n=n%values[i]\n",
    "        return S\n",
    "    except :\n",
    "        return \"Type Error : Can't convert \"+str(n)+\" to an int\""
   ]
  },
  {
   "cell_type": "code",
   "execution_count": 41,
   "metadata": {},
   "outputs": [
    {
     "name": "stdout",
     "output_type": "stream",
     "text": [
      "XLII\n"
     ]
    }
   ],
   "source": [
    "print(roman(42))"
   ]
  },
  {
   "cell_type": "markdown",
   "metadata": {},
   "source": [
    "## Exercise 4 (<30min)"
   ]
  },
  {
   "cell_type": "markdown",
   "metadata": {},
   "source": [
    "We use the *Beautiful Soup* Python Library to extract data from Twitter."
   ]
  },
  {
   "cell_type": "code",
   "execution_count": 15,
   "metadata": {},
   "outputs": [
    {
     "name": "stdout",
     "output_type": "stream",
     "text": [
      "Input the account's URL : https://twitter.com/KMbappe\n",
      "Number of followers : 3768777\n"
     ]
    }
   ],
   "source": [
    "from bs4 import BeautifulSoup\n",
    "import requests\n",
    "\n",
    "url = input(\"Input the account's URL : \") \n",
    "\n",
    "try :\n",
    "    code = requests.get(url)\n",
    "    soup = BeautifulSoup(code.text,\"lxml\")\n",
    "    follow_box = soup.find(\"li\",{\"class\":\"ProfileNav-item ProfileNav-item--followers\"})\n",
    "    followers = follow_box.find(\"a\").find(\"span\",{\"class\":\"ProfileNav-value\"})\n",
    "    print(\"Number of followers : \"+followers.get(\"data-count\"))\n",
    "except:\n",
    "    print(\"Not a Twitter account :/\")"
   ]
  },
  {
   "cell_type": "code",
   "execution_count": null,
   "metadata": {},
   "outputs": [],
   "source": []
  }
 ],
 "metadata": {
  "kernelspec": {
   "display_name": "Python 3",
   "language": "python",
   "name": "python3"
  },
  "language_info": {
   "codemirror_mode": {
    "name": "ipython",
    "version": 3
   },
   "file_extension": ".py",
   "mimetype": "text/x-python",
   "name": "python",
   "nbconvert_exporter": "python",
   "pygments_lexer": "ipython3",
   "version": "3.7.3"
  }
 },
 "nbformat": 4,
 "nbformat_minor": 2
}
